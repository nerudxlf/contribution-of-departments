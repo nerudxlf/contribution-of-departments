{
  "nbformat": 4,
  "nbformat_minor": 0,
  "metadata": {
    "colab": {
      "name": "main.ipynb",
      "provenance": [],
      "authorship_tag": "ABX9TyP8TmHKrXlJ/AgUbRAXBCL9",
      "include_colab_link": true
    },
    "kernelspec": {
      "name": "python3",
      "display_name": "Python 3"
    },
    "language_info": {
      "name": "python"
    }
  },
  "cells": [
    {
      "cell_type": "markdown",
      "metadata": {
        "id": "view-in-github",
        "colab_type": "text"
      },
      "source": [
        "<a href=\"https://colab.research.google.com/github/nerudxlf/contribution-of-departments/blob/main/main.ipynb\" target=\"_parent\"><img src=\"https://colab.research.google.com/assets/colab-badge.svg\" alt=\"Open In Colab\"/></a>"
      ]
    },
    {
      "cell_type": "code",
      "source": [
        "import re\n",
        "\n",
        "import pandas as pd\n",
        "\n",
        "from pandas import DataFrame\n",
        "from google.colab import files\n",
        "\n",
        "files.upload()"
      ],
      "metadata": {
        "id": "oj0fTpdt02di",
        "outputId": "3ea71b2a-0756-40a4-bcfb-84ccfeb41048",
        "colab": {
          "resources": {
            "http://localhost:8080/nbextensions/google.colab/files.js": {
              "data": "Ly8gQ29weXJpZ2h0IDIwMTcgR29vZ2xlIExMQwovLwovLyBMaWNlbnNlZCB1bmRlciB0aGUgQXBhY2hlIExpY2Vuc2UsIFZlcnNpb24gMi4wICh0aGUgIkxpY2Vuc2UiKTsKLy8geW91IG1heSBub3QgdXNlIHRoaXMgZmlsZSBleGNlcHQgaW4gY29tcGxpYW5jZSB3aXRoIHRoZSBMaWNlbnNlLgovLyBZb3UgbWF5IG9idGFpbiBhIGNvcHkgb2YgdGhlIExpY2Vuc2UgYXQKLy8KLy8gICAgICBodHRwOi8vd3d3LmFwYWNoZS5vcmcvbGljZW5zZXMvTElDRU5TRS0yLjAKLy8KLy8gVW5sZXNzIHJlcXVpcmVkIGJ5IGFwcGxpY2FibGUgbGF3IG9yIGFncmVlZCB0byBpbiB3cml0aW5nLCBzb2Z0d2FyZQovLyBkaXN0cmlidXRlZCB1bmRlciB0aGUgTGljZW5zZSBpcyBkaXN0cmlidXRlZCBvbiBhbiAiQVMgSVMiIEJBU0lTLAovLyBXSVRIT1VUIFdBUlJBTlRJRVMgT1IgQ09ORElUSU9OUyBPRiBBTlkgS0lORCwgZWl0aGVyIGV4cHJlc3Mgb3IgaW1wbGllZC4KLy8gU2VlIHRoZSBMaWNlbnNlIGZvciB0aGUgc3BlY2lmaWMgbGFuZ3VhZ2UgZ292ZXJuaW5nIHBlcm1pc3Npb25zIGFuZAovLyBsaW1pdGF0aW9ucyB1bmRlciB0aGUgTGljZW5zZS4KCi8qKgogKiBAZmlsZW92ZXJ2aWV3IEhlbHBlcnMgZm9yIGdvb2dsZS5jb2xhYiBQeXRob24gbW9kdWxlLgogKi8KKGZ1bmN0aW9uKHNjb3BlKSB7CmZ1bmN0aW9uIHNwYW4odGV4dCwgc3R5bGVBdHRyaWJ1dGVzID0ge30pIHsKICBjb25zdCBlbGVtZW50ID0gZG9jdW1lbnQuY3JlYXRlRWxlbWVudCgnc3BhbicpOwogIGVsZW1lbnQudGV4dENvbnRlbnQgPSB0ZXh0OwogIGZvciAoY29uc3Qga2V5IG9mIE9iamVjdC5rZXlzKHN0eWxlQXR0cmlidXRlcykpIHsKICAgIGVsZW1lbnQuc3R5bGVba2V5XSA9IHN0eWxlQXR0cmlidXRlc1trZXldOwogIH0KICByZXR1cm4gZWxlbWVudDsKfQoKLy8gTWF4IG51bWJlciBvZiBieXRlcyB3aGljaCB3aWxsIGJlIHVwbG9hZGVkIGF0IGEgdGltZS4KY29uc3QgTUFYX1BBWUxPQURfU0laRSA9IDEwMCAqIDEwMjQ7CgpmdW5jdGlvbiBfdXBsb2FkRmlsZXMoaW5wdXRJZCwgb3V0cHV0SWQpIHsKICBjb25zdCBzdGVwcyA9IHVwbG9hZEZpbGVzU3RlcChpbnB1dElkLCBvdXRwdXRJZCk7CiAgY29uc3Qgb3V0cHV0RWxlbWVudCA9IGRvY3VtZW50LmdldEVsZW1lbnRCeUlkKG91dHB1dElkKTsKICAvLyBDYWNoZSBzdGVwcyBvbiB0aGUgb3V0cHV0RWxlbWVudCB0byBtYWtlIGl0IGF2YWlsYWJsZSBmb3IgdGhlIG5leHQgY2FsbAogIC8vIHRvIHVwbG9hZEZpbGVzQ29udGludWUgZnJvbSBQeXRob24uCiAgb3V0cHV0RWxlbWVudC5zdGVwcyA9IHN0ZXBzOwoKICByZXR1cm4gX3VwbG9hZEZpbGVzQ29udGludWUob3V0cHV0SWQpOwp9CgovLyBUaGlzIGlzIHJvdWdobHkgYW4gYXN5bmMgZ2VuZXJhdG9yIChub3Qgc3VwcG9ydGVkIGluIHRoZSBicm93c2VyIHlldCksCi8vIHdoZXJlIHRoZXJlIGFyZSBtdWx0aXBsZSBhc3luY2hyb25vdXMgc3RlcHMgYW5kIHRoZSBQeXRob24gc2lkZSBpcyBnb2luZwovLyB0byBwb2xsIGZvciBjb21wbGV0aW9uIG9mIGVhY2ggc3RlcC4KLy8gVGhpcyB1c2VzIGEgUHJvbWlzZSB0byBibG9jayB0aGUgcHl0aG9uIHNpZGUgb24gY29tcGxldGlvbiBvZiBlYWNoIHN0ZXAsCi8vIHRoZW4gcGFzc2VzIHRoZSByZXN1bHQgb2YgdGhlIHByZXZpb3VzIHN0ZXAgYXMgdGhlIGlucHV0IHRvIHRoZSBuZXh0IHN0ZXAuCmZ1bmN0aW9uIF91cGxvYWRGaWxlc0NvbnRpbnVlKG91dHB1dElkKSB7CiAgY29uc3Qgb3V0cHV0RWxlbWVudCA9IGRvY3VtZW50LmdldEVsZW1lbnRCeUlkKG91dHB1dElkKTsKICBjb25zdCBzdGVwcyA9IG91dHB1dEVsZW1lbnQuc3RlcHM7CgogIGNvbnN0IG5leHQgPSBzdGVwcy5uZXh0KG91dHB1dEVsZW1lbnQubGFzdFByb21pc2VWYWx1ZSk7CiAgcmV0dXJuIFByb21pc2UucmVzb2x2ZShuZXh0LnZhbHVlLnByb21pc2UpLnRoZW4oKHZhbHVlKSA9PiB7CiAgICAvLyBDYWNoZSB0aGUgbGFzdCBwcm9taXNlIHZhbHVlIHRvIG1ha2UgaXQgYXZhaWxhYmxlIHRvIHRoZSBuZXh0CiAgICAvLyBzdGVwIG9mIHRoZSBnZW5lcmF0b3IuCiAgICBvdXRwdXRFbGVtZW50Lmxhc3RQcm9taXNlVmFsdWUgPSB2YWx1ZTsKICAgIHJldHVybiBuZXh0LnZhbHVlLnJlc3BvbnNlOwogIH0pOwp9CgovKioKICogR2VuZXJhdG9yIGZ1bmN0aW9uIHdoaWNoIGlzIGNhbGxlZCBiZXR3ZWVuIGVhY2ggYXN5bmMgc3RlcCBvZiB0aGUgdXBsb2FkCiAqIHByb2Nlc3MuCiAqIEBwYXJhbSB7c3RyaW5nfSBpbnB1dElkIEVsZW1lbnQgSUQgb2YgdGhlIGlucHV0IGZpbGUgcGlja2VyIGVsZW1lbnQuCiAqIEBwYXJhbSB7c3RyaW5nfSBvdXRwdXRJZCBFbGVtZW50IElEIG9mIHRoZSBvdXRwdXQgZGlzcGxheS4KICogQHJldHVybiB7IUl0ZXJhYmxlPCFPYmplY3Q+fSBJdGVyYWJsZSBvZiBuZXh0IHN0ZXBzLgogKi8KZnVuY3Rpb24qIHVwbG9hZEZpbGVzU3RlcChpbnB1dElkLCBvdXRwdXRJZCkgewogIGNvbnN0IGlucHV0RWxlbWVudCA9IGRvY3VtZW50LmdldEVsZW1lbnRCeUlkKGlucHV0SWQpOwogIGlucHV0RWxlbWVudC5kaXNhYmxlZCA9IGZhbHNlOwoKICBjb25zdCBvdXRwdXRFbGVtZW50ID0gZG9jdW1lbnQuZ2V0RWxlbWVudEJ5SWQob3V0cHV0SWQpOwogIG91dHB1dEVsZW1lbnQuaW5uZXJIVE1MID0gJyc7CgogIGNvbnN0IHBpY2tlZFByb21pc2UgPSBuZXcgUHJvbWlzZSgocmVzb2x2ZSkgPT4gewogICAgaW5wdXRFbGVtZW50LmFkZEV2ZW50TGlzdGVuZXIoJ2NoYW5nZScsIChlKSA9PiB7CiAgICAgIHJlc29sdmUoZS50YXJnZXQuZmlsZXMpOwogICAgfSk7CiAgfSk7CgogIGNvbnN0IGNhbmNlbCA9IGRvY3VtZW50LmNyZWF0ZUVsZW1lbnQoJ2J1dHRvbicpOwogIGlucHV0RWxlbWVudC5wYXJlbnRFbGVtZW50LmFwcGVuZENoaWxkKGNhbmNlbCk7CiAgY2FuY2VsLnRleHRDb250ZW50ID0gJ0NhbmNlbCB1cGxvYWQnOwogIGNvbnN0IGNhbmNlbFByb21pc2UgPSBuZXcgUHJvbWlzZSgocmVzb2x2ZSkgPT4gewogICAgY2FuY2VsLm9uY2xpY2sgPSAoKSA9PiB7CiAgICAgIHJlc29sdmUobnVsbCk7CiAgICB9OwogIH0pOwoKICAvLyBXYWl0IGZvciB0aGUgdXNlciB0byBwaWNrIHRoZSBmaWxlcy4KICBjb25zdCBmaWxlcyA9IHlpZWxkIHsKICAgIHByb21pc2U6IFByb21pc2UucmFjZShbcGlja2VkUHJvbWlzZSwgY2FuY2VsUHJvbWlzZV0pLAogICAgcmVzcG9uc2U6IHsKICAgICAgYWN0aW9uOiAnc3RhcnRpbmcnLAogICAgfQogIH07CgogIGNhbmNlbC5yZW1vdmUoKTsKCiAgLy8gRGlzYWJsZSB0aGUgaW5wdXQgZWxlbWVudCBzaW5jZSBmdXJ0aGVyIHBpY2tzIGFyZSBub3QgYWxsb3dlZC4KICBpbnB1dEVsZW1lbnQuZGlzYWJsZWQgPSB0cnVlOwoKICBpZiAoIWZpbGVzKSB7CiAgICByZXR1cm4gewogICAgICByZXNwb25zZTogewogICAgICAgIGFjdGlvbjogJ2NvbXBsZXRlJywKICAgICAgfQogICAgfTsKICB9CgogIGZvciAoY29uc3QgZmlsZSBvZiBmaWxlcykgewogICAgY29uc3QgbGkgPSBkb2N1bWVudC5jcmVhdGVFbGVtZW50KCdsaScpOwogICAgbGkuYXBwZW5kKHNwYW4oZmlsZS5uYW1lLCB7Zm9udFdlaWdodDogJ2JvbGQnfSkpOwogICAgbGkuYXBwZW5kKHNwYW4oCiAgICAgICAgYCgke2ZpbGUudHlwZSB8fCAnbi9hJ30pIC0gJHtmaWxlLnNpemV9IGJ5dGVzLCBgICsKICAgICAgICBgbGFzdCBtb2RpZmllZDogJHsKICAgICAgICAgICAgZmlsZS5sYXN0TW9kaWZpZWREYXRlID8gZmlsZS5sYXN0TW9kaWZpZWREYXRlLnRvTG9jYWxlRGF0ZVN0cmluZygpIDoKICAgICAgICAgICAgICAgICAgICAgICAgICAgICAgICAgICAgJ24vYSd9IC0gYCkpOwogICAgY29uc3QgcGVyY2VudCA9IHNwYW4oJzAlIGRvbmUnKTsKICAgIGxpLmFwcGVuZENoaWxkKHBlcmNlbnQpOwoKICAgIG91dHB1dEVsZW1lbnQuYXBwZW5kQ2hpbGQobGkpOwoKICAgIGNvbnN0IGZpbGVEYXRhUHJvbWlzZSA9IG5ldyBQcm9taXNlKChyZXNvbHZlKSA9PiB7CiAgICAgIGNvbnN0IHJlYWRlciA9IG5ldyBGaWxlUmVhZGVyKCk7CiAgICAgIHJlYWRlci5vbmxvYWQgPSAoZSkgPT4gewogICAgICAgIHJlc29sdmUoZS50YXJnZXQucmVzdWx0KTsKICAgICAgfTsKICAgICAgcmVhZGVyLnJlYWRBc0FycmF5QnVmZmVyKGZpbGUpOwogICAgfSk7CiAgICAvLyBXYWl0IGZvciB0aGUgZGF0YSB0byBiZSByZWFkeS4KICAgIGxldCBmaWxlRGF0YSA9IHlpZWxkIHsKICAgICAgcHJvbWlzZTogZmlsZURhdGFQcm9taXNlLAogICAgICByZXNwb25zZTogewogICAgICAgIGFjdGlvbjogJ2NvbnRpbnVlJywKICAgICAgfQogICAgfTsKCiAgICAvLyBVc2UgYSBjaHVua2VkIHNlbmRpbmcgdG8gYXZvaWQgbWVzc2FnZSBzaXplIGxpbWl0cy4gU2VlIGIvNjIxMTU2NjAuCiAgICBsZXQgcG9zaXRpb24gPSAwOwogICAgZG8gewogICAgICBjb25zdCBsZW5ndGggPSBNYXRoLm1pbihmaWxlRGF0YS5ieXRlTGVuZ3RoIC0gcG9zaXRpb24sIE1BWF9QQVlMT0FEX1NJWkUpOwogICAgICBjb25zdCBjaHVuayA9IG5ldyBVaW50OEFycmF5KGZpbGVEYXRhLCBwb3NpdGlvbiwgbGVuZ3RoKTsKICAgICAgcG9zaXRpb24gKz0gbGVuZ3RoOwoKICAgICAgY29uc3QgYmFzZTY0ID0gYnRvYShTdHJpbmcuZnJvbUNoYXJDb2RlLmFwcGx5KG51bGwsIGNodW5rKSk7CiAgICAgIHlpZWxkIHsKICAgICAgICByZXNwb25zZTogewogICAgICAgICAgYWN0aW9uOiAnYXBwZW5kJywKICAgICAgICAgIGZpbGU6IGZpbGUubmFtZSwKICAgICAgICAgIGRhdGE6IGJhc2U2NCwKICAgICAgICB9LAogICAgICB9OwoKICAgICAgbGV0IHBlcmNlbnREb25lID0gZmlsZURhdGEuYnl0ZUxlbmd0aCA9PT0gMCA/CiAgICAgICAgICAxMDAgOgogICAgICAgICAgTWF0aC5yb3VuZCgocG9zaXRpb24gLyBmaWxlRGF0YS5ieXRlTGVuZ3RoKSAqIDEwMCk7CiAgICAgIHBlcmNlbnQudGV4dENvbnRlbnQgPSBgJHtwZXJjZW50RG9uZX0lIGRvbmVgOwoKICAgIH0gd2hpbGUgKHBvc2l0aW9uIDwgZmlsZURhdGEuYnl0ZUxlbmd0aCk7CiAgfQoKICAvLyBBbGwgZG9uZS4KICB5aWVsZCB7CiAgICByZXNwb25zZTogewogICAgICBhY3Rpb246ICdjb21wbGV0ZScsCiAgICB9CiAgfTsKfQoKc2NvcGUuZ29vZ2xlID0gc2NvcGUuZ29vZ2xlIHx8IHt9OwpzY29wZS5nb29nbGUuY29sYWIgPSBzY29wZS5nb29nbGUuY29sYWIgfHwge307CnNjb3BlLmdvb2dsZS5jb2xhYi5fZmlsZXMgPSB7CiAgX3VwbG9hZEZpbGVzLAogIF91cGxvYWRGaWxlc0NvbnRpbnVlLAp9Owp9KShzZWxmKTsK",
              "ok": true,
              "headers": [
                [
                  "content-type",
                  "application/javascript"
                ]
              ],
              "status": 200,
              "status_text": ""
            }
          },
          "base_uri": "https://localhost:8080/",
          "height": 55
        }
      },
      "execution_count": null,
      "outputs": [
        {
          "output_type": "display_data",
          "data": {
            "text/html": [
              "\n",
              "     <input type=\"file\" id=\"files-87c04041-a62e-455e-87d1-5011aa8bf846\" name=\"files[]\" multiple disabled\n",
              "        style=\"border:none\" />\n",
              "     <output id=\"result-87c04041-a62e-455e-87d1-5011aa8bf846\">\n",
              "      Upload widget is only available when the cell has been executed in the\n",
              "      current browser session. Please rerun this cell to enable.\n",
              "      </output>\n",
              "      <script src=\"/nbextensions/google.colab/files.js\"></script> "
            ],
            "text/plain": [
              "<IPython.core.display.HTML object>"
            ]
          },
          "metadata": {}
        },
        {
          "output_type": "execute_result",
          "data": {
            "text/plain": [
              "{}"
            ]
          },
          "metadata": {},
          "execution_count": 2
        }
      ]
    },
    {
      "cell_type": "code",
      "source": [
        "def merge_two_dicts(x: dict, y: dict) -> dict:\n",
        "    \"\"\"\n",
        "    :param x: исходный словарь\n",
        "    :param y: словарь для объединения со словарем x\n",
        "    :return: возвращает объединенный словарь\n",
        "    \"\"\"\n",
        "    z = x.copy()\n",
        "    z.update(y)\n",
        "    return z\n",
        "\n",
        "\n",
        "class DataCalculation:\n",
        "  \"\"\"\n",
        "  Класс родитель для подсчета показателей\n",
        "  :function find_in_dictionary: метод для поиска человека в словаре\n",
        "  :function __get_sum_dict_npr: статическая функция, для суммирования всех\n",
        "  ставок одного нпр\n",
        "  :__get_current_value_proportion_npr: статическая функция, для нахождения\n",
        "  усредненной ставки\n",
        "  :get_employees_dict: метод для получения нпр из списка с его текущей ставкой\n",
        "  :count_values: метод для расчета показателей по кафедрам  \n",
        "  \"\"\"\n",
        "  department_values = {}\n",
        "\n",
        "  def __init__(self, dictionary_df: DataFrame, employees_df: DataFrame, data_df: DataFrame):\n",
        "    self.dictionary = dict(zip(dictionary_df[\"Сотрудник\"].to_list(), dictionary_df[\"names\"].to_list()))\n",
        "    self.employees = employees_df\n",
        "    self.data_df = data_df\n",
        "\n",
        "  def find_in_dictionary(self, names: str):\n",
        "    for keys, values in self.dictionary.items():\n",
        "      if values.find(names.lower()) != -1:\n",
        "        return keys\n",
        "    else:\n",
        "      return None\n",
        "\n",
        "  @staticmethod\n",
        "  def __get_sum_dict_npr(dictionary: dict) -> dict:\n",
        "    tmp_dict = {}\n",
        "    for values in dictionary.values():\n",
        "      for keys_v, values_v in values.items():\n",
        "        if tmp_dict.get(keys_v):\n",
        "          tmp_dict[keys_v] += values_v\n",
        "        else:\n",
        "          tmp_dict = merge_two_dicts(tmp_dict, {keys_v: values_v})\n",
        "    return tmp_dict\n",
        "\n",
        "  @staticmethod\n",
        "  def __get_current_value_proportion_npr(dictionary_tmp: dict, current_dict: dict) -> dict:\n",
        "    for keys, values in current_dict.items():\n",
        "      for keys_v, values_v in values.items():\n",
        "        current_dict[keys][keys_v] = values_v / dictionary_tmp[keys_v]\n",
        "    return current_dict\n",
        "\n",
        "  def get_employees_dict(self) -> dict:\n",
        "    department_list = self.employees[\"Подразделение\"].to_list()\n",
        "    names_list = self.employees[\"ФИО\"].to_list()\n",
        "    proportion_list = self.employees[\"Ставка\"].to_list()\n",
        "    result_dict = {}\n",
        "    for i in range(len(department_list)):\n",
        "      if department_list[i].find(\"Кафедра\") != -1:\n",
        "        if result_dict.get(department_list[i]):\n",
        "          result_dict[department_list[i]] = merge_two_dicts(result_dict[department_list[i]], {names_list[i]: proportion_list[i]})\n",
        "        else:\n",
        "          result_dict = merge_two_dicts(result_dict, {department_list[i]: {names_list[i]: proportion_list[i]}})\n",
        "    tmp_dict = self.__get_sum_dict_npr(result_dict)\n",
        "    return_dict = self.__get_current_value_proportion_npr(tmp_dict, result_dict)\n",
        "    return return_dict\n",
        "\n",
        "  def count_values(self):\n",
        "    pass\n",
        "\n",
        "class DataCalculationScopus(DataCalculation):\n",
        "  def count_values(self):\n",
        "    data_set = []\n",
        "    employees_dict = self.get_employees_dict()\n",
        "\n",
        "    for authors in self.data_df[\"Авторы\"].to_list():\n",
        "      for i in authors.split(\", \"):\n",
        "        name = self.find_in_dictionary(i)\n",
        "        if not name:\n",
        "          data_set.append(i)\n",
        "          break\n",
        "        for keys, values in employees_dict.items():\n",
        "          if values.get(name):\n",
        "            if self.department_values.get(keys):\n",
        "              self.department_values[keys] += values[name]\n",
        "            else:\n",
        "              self.department_values = merge_two_dicts(self.department_values, {keys: values[name]})\n",
        "    return self.department_values\n",
        "\n",
        "class DataCalculationWoS(DataCalculation):\n",
        "  def count_values(self):\n",
        "    employees_dict = self.get_employees_dict()\n",
        "    for authors in self.data_df[\"Authors\"].to_list():\n",
        "      for i in authors.split(\"; \"):\n",
        "        name = self.find_in_dictionary(i)\n",
        "        if not name:\n",
        "          break\n",
        "        for keys, values in employees_dict.items():\n",
        "          if values.get(name):\n",
        "            if self.department_values.get(keys):\n",
        "              self.department_values[keys] += values[name]\n",
        "            else:\n",
        "              self.department_values = merge_two_dicts(self.department_values, {keys: values[name]}) \n",
        "    return self.department_values\n",
        "\n",
        "\n",
        "class DataCalculationElibrary(DataCalculation):\n",
        "  def __get_name(self, name: str):\n",
        "    if bool(re.search('[а-яА-Я]', name)):\n",
        "      return name\n",
        "    else:\n",
        "      name = self.find_in_dictionary(name)\n",
        "      if name:\n",
        "        name_list = name.split()\n",
        "        if len(name_list) == 2:\n",
        "          return f\"{name_list[0]} {name_list[1][0]}.\"\n",
        "        elif len(name_list) == 3:\n",
        "          return f\"{name_list[0]} {name_list[1][0]}.{name_list[2][0]}.\"\n",
        "      return None\n",
        "\n",
        "  def get_employees_dict(self):\n",
        "    department_list = self.employees[\"Подразделение\"].to_list()\n",
        "    names_list = self.employees[\"ФИО\"].to_list()\n",
        "    proportion_list = self.employees[\"Ставка\"].to_list()\n",
        "    result_dict = {}\n",
        "    for i in range(len(department_list)):\n",
        "      if department_list[i].find(\"Кафедра\") != -1:\n",
        "        if result_dict.get(department_list[i]):\n",
        "          names_list_split = names_list[i].split()\n",
        "          if len(names_list_split) == 2:\n",
        "            name = f\"{names_list_split[0]} {names_list_split[1][0]}.\"  # Получаем Фамилия И.\n",
        "          else:\n",
        "            name = f\"{names_list_split[0]} {names_list_split[1][0]}.{names_list_split[2][0]}.\"  # Получаем Фамилия И.О.\n",
        "        else:\n",
        "          names_list_split = names_list[i].split()\n",
        "          if len(names_list_split) == 2:\n",
        "            name = f\"{names_list_split[0]} {names_list_split[1][0]}.\"\n",
        "          else:\n",
        "            name = f\"{names_list_split[0]} {names_list_split[1][0]}.{names_list_split[2][0]}.\"\n",
        "          result_dict = merge_two_dicts(result_dict, {department_list[i]: {name: proportion_list[i]}})\n",
        "    tmp_dict = self._get_sum_dict_npr(result_dict)\n",
        "    return_dict = self._get_current_value_proportion_npr(tmp_dict, result_dict)\n",
        "    return result_dict\n",
        "\n",
        "  def count_values(self):\n",
        "    employees_dict = self.get_employees_dict()\n",
        "    for authors in self.data_df[\"Авторы\"].to_list():\n",
        "      for i in authors.split(\", \"):\n",
        "        name = self.__get_name(i)\n",
        "        if not name:\n",
        "          break\n",
        "        for keys, values in employees_dict.items():\n",
        "          if values.get(name):\n",
        "            if self.department_values.get(keys):\n",
        "              self.department_values[keys] += values[name]\n",
        "            else:\n",
        "              self.department_values = merge_two_dicts(self.department_values, {keys: values[name]})\n",
        "    return self.department_values"
      ],
      "metadata": {
        "id": "JlgbELPn02Qk"
      },
      "execution_count": null,
      "outputs": []
    },
    {
      "cell_type": "code",
      "execution_count": null,
      "metadata": {
        "id": "Qp_52I180mMc"
      },
      "outputs": [],
      "source": [
        "dictionary_df = pd.read_excel(\"dictionary.xlsx\")\n",
        "employees_df = pd.read_excel(\"Сотрудники.xls\")\n",
        "data_df = pd.read_excel(\"Scopus 2021.xlsx\")\n",
        "\n",
        "# dc_wos = DataCalculationWoS(dictionary_df, employees_df, data_df)\n",
        "# count_values = dc_wos.count_values()\n",
        "dc_scopus = DataCalculationScopus(dictionary_df, employees_df, data_df)\n",
        "count_values = dc_scopus.count_values()\n",
        "result_df = pd.DataFrame({\"Кафедра\": count_values.keys(), \"Значения\": count_values.values()})\n",
        "result_df.to_excel(\"result Scopus 2021 AR.xlsx\", index=False)\n"
      ]
    }
  ]
}