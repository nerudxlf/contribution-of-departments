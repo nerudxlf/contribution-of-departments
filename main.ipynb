{
  "nbformat": 4,
  "nbformat_minor": 0,
  "metadata": {
    "colab": {
      "name": "main.ipynb",
      "provenance": [],
      "authorship_tag": "ABX9TyNKltP948A3mNHs/dLz8z0m",
      "include_colab_link": true
    },
    "kernelspec": {
      "name": "python3",
      "display_name": "Python 3"
    },
    "language_info": {
      "name": "python"
    }
  },
  "cells": [
    {
      "cell_type": "markdown",
      "metadata": {
        "id": "view-in-github",
        "colab_type": "text"
      },
      "source": [
        "<a href=\"https://colab.research.google.com/github/nerudxlf/contribution-of-departments/blob/main/main.ipynb\" target=\"_parent\"><img src=\"https://colab.research.google.com/assets/colab-badge.svg\" alt=\"Open In Colab\"/></a>"
      ]
    },
    {
      "cell_type": "code",
      "source": [
        "from pandas import DataFrame\n",
        "from google.colab import files\n",
        "\n",
        "files.upload()"
      ],
      "metadata": {
        "id": "oj0fTpdt02di"
      },
      "execution_count": null,
      "outputs": []
    },
    {
      "cell_type": "code",
      "source": [
        "class DataCalculation:\n",
        "  department_values = {}\n",
        "\n",
        "  def __init__(self, dictionary_df: DataFrame, employees_df: DataFrame, data_df: DataFrame):\n",
        "    self.dictionary = dict(zip(dictionary_df[\"Сотрудник\"].to_list(), dictionary_df[\"names\"].to_list()))\n",
        "    self.employees = employees_df\n",
        "    self.data_df = data_df\n",
        "\n",
        "  def find_in_dictionary(self, names: str):\n",
        "    for keys, values in self.dictionary.items():\n",
        "      if values.find(names.lower()) != -1:\n",
        "        return keys\n",
        "      else:\n",
        "        return None\n",
        "\n",
        "  @staticmethod\n",
        "  def __get_sum_dict_npr(dictionary: dict) -> dict:\n",
        "    tmp_dict = {}\n",
        "    for values in dictionary.values():\n",
        "      for keys_v, values_v in values.items():\n",
        "        if tmp_dict.get(keys_v):\n",
        "          tmp_dict[keys_v] += values_v\n",
        "        else:\n",
        "          tmp_dict |= {keys_v: values_v}\n",
        "    return tmp_dict\n",
        "\n",
        "  @staticmethod\n",
        "  def __get_current_value_proportion_npr(dictionary_tmp: dict, current_dict: dict) -> dict:\n",
        "    for keys, values in current_dict.items():\n",
        "      for keys_v, values_v in values.items():\n",
        "        current_dict[keys][keys_v] = values_v / dictionary_tmp[keys_v]\n",
        "    return current_dict\n",
        "\n",
        "  def get_employees_dict(self) -> dict:\n",
        "    department_list = self.employees[\"Подразделение\"].to_list()\n",
        "    names_list = self.employees[\"ФИО\"].to_list()\n",
        "    proportion_list = self.employees[\"Ставка\"].to_list()\n",
        "    result_dict = {}\n",
        "    for i in range(len(department_list)):\n",
        "      if department_list[i].find(\"Кафедра\") != -1:\n",
        "        if result_dict.get(department_list[i]):\n",
        "          result_dict[department_list[i]] |= {names_list[i]: proportion_list[i]}\n",
        "        else:\n",
        "          result_dict |= {department_list[i]: {names_list[i]: proportion_list[i]}}\n",
        "    tmp_dict = self.__get_sum_dict_npr(result_dict)\n",
        "    return_dict = self.__get_current_value_proportion_npr(tmp_dict, result_dict)\n",
        "    return return_dict\n",
        "\n",
        "  def count_values(self):\n",
        "    pass\n",
        "\n",
        "class DataCalculationScopus(DataCalculation):\n",
        "  def count_values(self):\n",
        "    data_set = []\n",
        "    employees_dict = self.get_employees_dict()\n",
        "    for authors in self.data_df[\"Авторы\"].to_list():\n",
        "      for i in authors.split(\", \"):\n",
        "        name = self.find_in_dictionary(i)\n",
        "        if not name:\n",
        "          data_set.append(i)\n",
        "          break\n",
        "        for keys, values in employees_dict.items():\n",
        "          if values.get(name):\n",
        "            if self.department_values.get(keys):\n",
        "              self.department_values[keys] += values[name]\n",
        "            else:\n",
        "              self.department_values |= {keys: values[name]}\n",
        "    return self.department_values\n",
        "\n",
        "class DataCalculationWoS(DataCalculation):\n",
        "  def count_values(self):\n",
        "    employees_dict = self.get_employees_dict()\n",
        "    for authors in self.data_df[\"Authors\"].to_list():\n",
        "      for i in authors.split(\"; \"):\n",
        "        name = self.find_in_dictionary(i)\n",
        "        if not name:\n",
        "          print(i)\n",
        "          break\n",
        "        for keys, values in employees_dict.items():\n",
        "          if values.get(name):\n",
        "            if self.department_values.get(keys):\n",
        "              self.department_values[keys] += values[name]\n",
        "            else:\n",
        "              self.department_values |= {keys: values[name]}\n",
        "    return self.department_values"
      ],
      "metadata": {
        "id": "JlgbELPn02Qk"
      },
      "execution_count": null,
      "outputs": []
    },
    {
      "cell_type": "code",
      "execution_count": null,
      "metadata": {
        "id": "Qp_52I180mMc"
      },
      "outputs": [],
      "source": [
        "\n",
        "dictionary_df = pd.read_excel(\"dictionary.xlsx\")\n",
        "employees_df = pd.read_excel(\"Сотрудники.xls\")\n",
        "data_df = pd.read_excel(\"Scopus 2021 AR.xlsx\")\n",
        "\n",
        "# dc_wos = DataCalculationWoS(dictionary_df, employees_df, data_df)\n",
        "# count_values = dc_wos.count_values()\n",
        "dc_scopus = DataCalculationScopus(dictionary_df, employees_df, data_df)\n",
        "count_values = dc_scopus.count_values()\n",
        "result_df = pd.DataFrame({\"Кафедра\": count_values.keys(), \"Значения\": count_values.values()})\n",
        "result_df.to_excel(\"result Scopus 2021 AR.xlsx\", index=False)\n"
      ]
    }
  ]
}